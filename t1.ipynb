{
 "cells": [
  {
   "cell_type": "code",
   "execution_count": 18,
   "metadata": {
    "vscode": {
     "languageId": "r"
    }
   },
   "outputs": [],
   "source": [
    "library(ggplot2)\n",
    "library(lmtest)\n",
    "library(urca)\n",
    "library(sandwich)\n",
    "library(car)\n",
    "library(carData)\n",
    "library(forecast)\n",
    "library(tseries)\n",
    "library(dummy)\n",
    "library(seasonal)\n",
    "library(hexView)\n",
    "library(strucchange)\n",
    "library(fBasics)\n",
    "library(e1071)\n",
    "library(readxl)"
   ]
  },
  {
   "cell_type": "code",
   "execution_count": 19,
   "metadata": {
    "vscode": {
     "languageId": "r"
    }
   },
   "outputs": [
    {
     "name": "stdout",
     "output_type": "stream",
     "text": [
      "[1] \"Data_R_test\"\n"
     ]
    }
   ],
   "source": [
    "print(load(\"Data_R_test.rda\"))"
   ]
  },
  {
   "cell_type": "code",
   "execution_count": 20,
   "metadata": {
    "vscode": {
     "languageId": "r"
    }
   },
   "outputs": [],
   "source": [
    "df<-Data_R_test"
   ]
  },
  {
   "cell_type": "code",
   "execution_count": 22,
   "metadata": {
    "vscode": {
     "languageId": "r"
    }
   },
   "outputs": [
    {
     "data": {
      "text/html": [
       "51.7244306418219"
      ],
      "text/latex": [
       "51.7244306418219"
      ],
      "text/markdown": [
       "51.7244306418219"
      ],
      "text/plain": [
       "[1] 51.72443"
      ]
     },
     "metadata": {},
     "output_type": "display_data"
    }
   ],
   "source": [
    "var(df$x3)"
   ]
  },
  {
   "cell_type": "code",
   "execution_count": 23,
   "metadata": {
    "vscode": {
     "languageId": "r"
    }
   },
   "outputs": [
    {
     "data": {
      "text/plain": [
       "\n",
       "\tPearson's product-moment correlation\n",
       "\n",
       "data:  df$x1 and df$d1\n",
       "t = 1.3522, df = 68, p-value = 0.1808\n",
       "alternative hypothesis: true correlation is not equal to 0\n",
       "95 percent confidence interval:\n",
       " -0.0760450  0.3822596\n",
       "sample estimates:\n",
       "      cor \n",
       "0.1618205 \n"
      ]
     },
     "metadata": {},
     "output_type": "display_data"
    }
   ],
   "source": [
    "cor.test(df$x1,df$d1)"
   ]
  },
  {
   "cell_type": "code",
   "execution_count": 27,
   "metadata": {
    "vscode": {
     "languageId": "r"
    }
   },
   "outputs": [
    {
     "data": {
      "text/html": [
       "-0.282185528138135"
      ],
      "text/latex": [
       "-0.282185528138135"
      ],
      "text/markdown": [
       "-0.282185528138135"
      ],
      "text/plain": [
       "[1] -0.2821855"
      ]
     },
     "metadata": {},
     "output_type": "display_data"
    }
   ],
   "source": [
    "((df$x1-mean(df$x1))/stdev(df$x1))[1]"
   ]
  },
  {
   "cell_type": "code",
   "execution_count": 28,
   "metadata": {
    "vscode": {
     "languageId": "r"
    }
   },
   "outputs": [
    {
     "data": {
      "text/plain": [
       "\n",
       "Call:\n",
       "lm(formula = y1 ~ x1 + x2 + x3, data = df)\n",
       "\n",
       "Residuals:\n",
       "    Min      1Q  Median      3Q     Max \n",
       "-23.197 -10.929  -0.116  10.272  24.740 \n",
       "\n",
       "Coefficients:\n",
       "            Estimate Std. Error t value Pr(>|t|)    \n",
       "(Intercept) -2.31690    6.50074  -0.356    0.723    \n",
       "x1           1.47060    0.13398  10.976  < 2e-16 ***\n",
       "x2           1.06487    0.08851  12.031  < 2e-16 ***\n",
       "x3          -1.95580    0.21364  -9.155 2.31e-13 ***\n",
       "---\n",
       "Signif. codes:  0 '***' 0.001 '**' 0.01 '*' 0.05 '.' 0.1 ' ' 1\n",
       "\n",
       "Residual standard error: 12.73 on 66 degrees of freedom\n",
       "Multiple R-squared:  0.8328,\tAdjusted R-squared:  0.8252 \n",
       "F-statistic: 109.6 on 3 and 66 DF,  p-value: < 2.2e-16\n"
      ]
     },
     "metadata": {},
     "output_type": "display_data"
    }
   ],
   "source": [
    "reg<-lm(data=df,y1~x1+x2+x3)\n",
    "summary(reg)"
   ]
  },
  {
   "cell_type": "code",
   "execution_count": 31,
   "metadata": {
    "vscode": {
     "languageId": "r"
    }
   },
   "outputs": [
    {
     "data": {
      "text/html": [
       "<table class=\"dataframe\">\n",
       "<caption>A matrix: 4 × 2 of type dbl</caption>\n",
       "<thead>\n",
       "\t<tr><th></th><th scope=col>2.5 %</th><th scope=col>97.5 %</th></tr>\n",
       "</thead>\n",
       "<tbody>\n",
       "\t<tr><th scope=row>(Intercept)</th><td>-15.2960440</td><td>10.662243</td></tr>\n",
       "\t<tr><th scope=row>x1</th><td>  1.2030906</td><td> 1.738103</td></tr>\n",
       "\t<tr><th scope=row>x2</th><td>  0.8881498</td><td> 1.241597</td></tr>\n",
       "\t<tr><th scope=row>x3</th><td> -2.3823335</td><td>-1.529257</td></tr>\n",
       "</tbody>\n",
       "</table>\n"
      ],
      "text/latex": [
       "A matrix: 4 × 2 of type dbl\n",
       "\\begin{tabular}{r|ll}\n",
       "  & 2.5 \\% & 97.5 \\%\\\\\n",
       "\\hline\n",
       "\t(Intercept) & -15.2960440 & 10.662243\\\\\n",
       "\tx1 &   1.2030906 &  1.738103\\\\\n",
       "\tx2 &   0.8881498 &  1.241597\\\\\n",
       "\tx3 &  -2.3823335 & -1.529257\\\\\n",
       "\\end{tabular}\n"
      ],
      "text/markdown": [
       "\n",
       "A matrix: 4 × 2 of type dbl\n",
       "\n",
       "| <!--/--> | 2.5 % | 97.5 % |\n",
       "|---|---|---|\n",
       "| (Intercept) | -15.2960440 | 10.662243 |\n",
       "| x1 |   1.2030906 |  1.738103 |\n",
       "| x2 |   0.8881498 |  1.241597 |\n",
       "| x3 |  -2.3823335 | -1.529257 |\n",
       "\n"
      ],
      "text/plain": [
       "            2.5 %       97.5 %   \n",
       "(Intercept) -15.2960440 10.662243\n",
       "x1            1.2030906  1.738103\n",
       "x2            0.8881498  1.241597\n",
       "x3           -2.3823335 -1.529257"
      ]
     },
     "metadata": {},
     "output_type": "display_data"
    }
   ],
   "source": [
    "confint(reg)"
   ]
  },
  {
   "cell_type": "code",
   "execution_count": 32,
   "metadata": {
    "vscode": {
     "languageId": "r"
    }
   },
   "outputs": [
    {
     "data": {
      "text/html": [
       "<table class=\"dataframe\">\n",
       "<caption>A matrix: 4 × 4 of type dbl</caption>\n",
       "<thead>\n",
       "\t<tr><th></th><th scope=col>(Intercept)</th><th scope=col>x1</th><th scope=col>x2</th><th scope=col>x3</th></tr>\n",
       "</thead>\n",
       "<tbody>\n",
       "\t<tr><th scope=row>(Intercept)</th><td>42.2596037</td><td>-0.5586882667</td><td>-0.3506421665</td><td>-0.4960077175</td></tr>\n",
       "\t<tr><th scope=row>x1</th><td>-0.5586883</td><td> 0.0179515336</td><td> 0.0001192416</td><td>-0.0005911608</td></tr>\n",
       "\t<tr><th scope=row>x2</th><td>-0.3506422</td><td> 0.0001192416</td><td> 0.0078346915</td><td>-0.0012931717</td></tr>\n",
       "\t<tr><th scope=row>x3</th><td>-0.4960077</td><td>-0.0005911608</td><td>-0.0012931717</td><td> 0.0456403631</td></tr>\n",
       "</tbody>\n",
       "</table>\n"
      ],
      "text/latex": [
       "A matrix: 4 × 4 of type dbl\n",
       "\\begin{tabular}{r|llll}\n",
       "  & (Intercept) & x1 & x2 & x3\\\\\n",
       "\\hline\n",
       "\t(Intercept) & 42.2596037 & -0.5586882667 & -0.3506421665 & -0.4960077175\\\\\n",
       "\tx1 & -0.5586883 &  0.0179515336 &  0.0001192416 & -0.0005911608\\\\\n",
       "\tx2 & -0.3506422 &  0.0001192416 &  0.0078346915 & -0.0012931717\\\\\n",
       "\tx3 & -0.4960077 & -0.0005911608 & -0.0012931717 &  0.0456403631\\\\\n",
       "\\end{tabular}\n"
      ],
      "text/markdown": [
       "\n",
       "A matrix: 4 × 4 of type dbl\n",
       "\n",
       "| <!--/--> | (Intercept) | x1 | x2 | x3 |\n",
       "|---|---|---|---|---|\n",
       "| (Intercept) | 42.2596037 | -0.5586882667 | -0.3506421665 | -0.4960077175 |\n",
       "| x1 | -0.5586883 |  0.0179515336 |  0.0001192416 | -0.0005911608 |\n",
       "| x2 | -0.3506422 |  0.0001192416 |  0.0078346915 | -0.0012931717 |\n",
       "| x3 | -0.4960077 | -0.0005911608 | -0.0012931717 |  0.0456403631 |\n",
       "\n"
      ],
      "text/plain": [
       "            (Intercept) x1            x2            x3           \n",
       "(Intercept) 42.2596037  -0.5586882667 -0.3506421665 -0.4960077175\n",
       "x1          -0.5586883   0.0179515336  0.0001192416 -0.0005911608\n",
       "x2          -0.3506422   0.0001192416  0.0078346915 -0.0012931717\n",
       "x3          -0.4960077  -0.0005911608 -0.0012931717  0.0456403631"
      ]
     },
     "metadata": {},
     "output_type": "display_data"
    }
   ],
   "source": [
    "vcov(reg)"
   ]
  },
  {
   "cell_type": "code",
   "execution_count": 33,
   "metadata": {
    "vscode": {
     "languageId": "r"
    }
   },
   "outputs": [
    {
     "data": {
      "text/html": [
       "<table class=\"dataframe\">\n",
       "<caption>A anova: 2 × 6</caption>\n",
       "<thead>\n",
       "\t<tr><th></th><th scope=col>Res.Df</th><th scope=col>RSS</th><th scope=col>Df</th><th scope=col>Sum of Sq</th><th scope=col>F</th><th scope=col>Pr(&gt;F)</th></tr>\n",
       "\t<tr><th></th><th scope=col>&lt;dbl&gt;</th><th scope=col>&lt;dbl&gt;</th><th scope=col>&lt;dbl&gt;</th><th scope=col>&lt;dbl&gt;</th><th scope=col>&lt;dbl&gt;</th><th scope=col>&lt;dbl&gt;</th></tr>\n",
       "</thead>\n",
       "<tbody>\n",
       "\t<tr><th scope=row>1</th><td>67</td><td>50728.90</td><td>NA</td><td>      NA</td><td>      NA</td><td>         NA</td></tr>\n",
       "\t<tr><th scope=row>2</th><td>66</td><td>10696.16</td><td> 1</td><td>40032.73</td><td>247.0195</td><td>5.38702e-24</td></tr>\n",
       "</tbody>\n",
       "</table>\n"
      ],
      "text/latex": [
       "A anova: 2 × 6\n",
       "\\begin{tabular}{r|llllll}\n",
       "  & Res.Df & RSS & Df & Sum of Sq & F & Pr(>F)\\\\\n",
       "  & <dbl> & <dbl> & <dbl> & <dbl> & <dbl> & <dbl>\\\\\n",
       "\\hline\n",
       "\t1 & 67 & 50728.90 & NA &       NA &       NA &          NA\\\\\n",
       "\t2 & 66 & 10696.16 &  1 & 40032.73 & 247.0195 & 5.38702e-24\\\\\n",
       "\\end{tabular}\n"
      ],
      "text/markdown": [
       "\n",
       "A anova: 2 × 6\n",
       "\n",
       "| <!--/--> | Res.Df &lt;dbl&gt; | RSS &lt;dbl&gt; | Df &lt;dbl&gt; | Sum of Sq &lt;dbl&gt; | F &lt;dbl&gt; | Pr(&gt;F) &lt;dbl&gt; |\n",
       "|---|---|---|---|---|---|---|\n",
       "| 1 | 67 | 50728.90 | NA |       NA |       NA |          NA |\n",
       "| 2 | 66 | 10696.16 |  1 | 40032.73 | 247.0195 | 5.38702e-24 |\n",
       "\n"
      ],
      "text/plain": [
       "  Res.Df RSS      Df Sum of Sq F        Pr(>F)     \n",
       "1 67     50728.90 NA       NA        NA          NA\n",
       "2 66     10696.16  1 40032.73  247.0195 5.38702e-24"
      ]
     },
     "metadata": {},
     "output_type": "display_data"
    }
   ],
   "source": [
    "linearHypothesis(reg,\"x1+x2=0\")"
   ]
  },
  {
   "cell_type": "code",
   "execution_count": 34,
   "metadata": {
    "vscode": {
     "languageId": "r"
    }
   },
   "outputs": [
    {
     "data": {
      "text/plain": [
       "\n",
       "Call:\n",
       "lm(formula = y1 ~ x1 + x2 + x3 + x4, data = df)\n",
       "\n",
       "Residuals:\n",
       "     Min       1Q   Median       3Q      Max \n",
       "-23.0723 -10.2890   0.7862  10.5954  22.8291 \n",
       "\n",
       "Coefficients:\n",
       "            Estimate Std. Error t value Pr(>|t|)    \n",
       "(Intercept)  6.89007    7.83999   0.879    0.383    \n",
       "x1           1.43680    0.13209  10.877 2.83e-16 ***\n",
       "x2           1.03843    0.08755  11.861  < 2e-16 ***\n",
       "x3          -1.97179    0.20905  -9.432 8.65e-14 ***\n",
       "x4          -1.44386    0.71964  -2.006    0.049 *  \n",
       "---\n",
       "Signif. codes:  0 '***' 0.001 '**' 0.01 '*' 0.05 '.' 0.1 ' ' 1\n",
       "\n",
       "Residual standard error: 12.45 on 65 degrees of freedom\n",
       "Multiple R-squared:  0.8426,\tAdjusted R-squared:  0.8329 \n",
       "F-statistic: 86.97 on 4 and 65 DF,  p-value: < 2.2e-16\n"
      ]
     },
     "metadata": {},
     "output_type": "display_data"
    }
   ],
   "source": [
    "reg1<-lm(data=df,y1~x1+x2+x3+x4)\n",
    "summary(reg1)"
   ]
  },
  {
   "cell_type": "code",
   "execution_count": 35,
   "metadata": {
    "vscode": {
     "languageId": "r"
    }
   },
   "outputs": [
    {
     "data": {
      "text/html": [
       "<table class=\"dataframe\">\n",
       "<caption>A anova: 2 × 6</caption>\n",
       "<thead>\n",
       "\t<tr><th></th><th scope=col>Res.Df</th><th scope=col>RSS</th><th scope=col>Df</th><th scope=col>Sum of Sq</th><th scope=col>F</th><th scope=col>Pr(&gt;F)</th></tr>\n",
       "\t<tr><th></th><th scope=col>&lt;dbl&gt;</th><th scope=col>&lt;dbl&gt;</th><th scope=col>&lt;dbl&gt;</th><th scope=col>&lt;dbl&gt;</th><th scope=col>&lt;dbl&gt;</th><th scope=col>&lt;dbl&gt;</th></tr>\n",
       "</thead>\n",
       "<tbody>\n",
       "\t<tr><th scope=row>1</th><td>66</td><td>10696.16</td><td>NA</td><td>      NA</td><td>      NA</td><td>        NA</td></tr>\n",
       "\t<tr><th scope=row>2</th><td>65</td><td>10072.38</td><td> 1</td><td>623.7814</td><td>4.025442</td><td>0.04898298</td></tr>\n",
       "</tbody>\n",
       "</table>\n"
      ],
      "text/latex": [
       "A anova: 2 × 6\n",
       "\\begin{tabular}{r|llllll}\n",
       "  & Res.Df & RSS & Df & Sum of Sq & F & Pr(>F)\\\\\n",
       "  & <dbl> & <dbl> & <dbl> & <dbl> & <dbl> & <dbl>\\\\\n",
       "\\hline\n",
       "\t1 & 66 & 10696.16 & NA &       NA &       NA &         NA\\\\\n",
       "\t2 & 65 & 10072.38 &  1 & 623.7814 & 4.025442 & 0.04898298\\\\\n",
       "\\end{tabular}\n"
      ],
      "text/markdown": [
       "\n",
       "A anova: 2 × 6\n",
       "\n",
       "| <!--/--> | Res.Df &lt;dbl&gt; | RSS &lt;dbl&gt; | Df &lt;dbl&gt; | Sum of Sq &lt;dbl&gt; | F &lt;dbl&gt; | Pr(&gt;F) &lt;dbl&gt; |\n",
       "|---|---|---|---|---|---|---|\n",
       "| 1 | 66 | 10696.16 | NA |       NA |       NA |         NA |\n",
       "| 2 | 65 | 10072.38 |  1 | 623.7814 | 4.025442 | 0.04898298 |\n",
       "\n"
      ],
      "text/plain": [
       "  Res.Df RSS      Df Sum of Sq F        Pr(>F)    \n",
       "1 66     10696.16 NA       NA        NA         NA\n",
       "2 65     10072.38  1 623.7814  4.025442 0.04898298"
      ]
     },
     "metadata": {},
     "output_type": "display_data"
    }
   ],
   "source": [
    "linearHypothesis(reg1,\"x4=0\")"
   ]
  },
  {
   "cell_type": "code",
   "execution_count": null,
   "metadata": {
    "vscode": {
     "languageId": "r"
    }
   },
   "outputs": [],
   "source": []
  }
 ],
 "metadata": {
  "kernelspec": {
   "display_name": "R",
   "language": "R",
   "name": "ir"
  },
  "language_info": {
   "codemirror_mode": "r",
   "file_extension": ".r",
   "mimetype": "text/x-r-source",
   "name": "R",
   "pygments_lexer": "r",
   "version": "4.2.1"
  },
  "orig_nbformat": 4
 },
 "nbformat": 4,
 "nbformat_minor": 2
}
