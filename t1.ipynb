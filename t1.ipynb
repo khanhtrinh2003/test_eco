{
 "cells": [
  {
   "cell_type": "code",
   "execution_count": 18,
   "metadata": {
    "vscode": {
     "languageId": "r"
    }
   },
   "outputs": [],
   "source": [
    "library(ggplot2)\n",
    "library(lmtest)\n",
    "library(urca)\n",
    "library(sandwich)\n",
    "library(car)\n",
    "library(carData)\n",
    "library(forecast)\n",
    "library(tseries)\n",
    "library(dummy)\n",
    "library(seasonal)\n",
    "library(hexView)\n",
    "library(strucchange)\n",
    "library(fBasics)\n",
    "library(e1071)\n",
    "library(readxl)"
   ]
  },
  {
   "cell_type": "code",
   "execution_count": 19,
   "metadata": {
    "vscode": {
     "languageId": "r"
    }
   },
   "outputs": [
    {
     "name": "stdout",
     "output_type": "stream",
     "text": [
      "[1] \"Data_R_test\"\n"
     ]
    }
   ],
   "source": [
    "print(load(\"Data_R_test.rda\"))"
   ]
  },
  {
   "cell_type": "code",
   "execution_count": 20,
   "metadata": {
    "vscode": {
     "languageId": "r"
    }
   },
   "outputs": [],
   "source": [
    "df<-Data_R_test"
   ]
  },
  {
   "cell_type": "code",
   "execution_count": 22,
   "metadata": {
    "vscode": {
     "languageId": "r"
    }
   },
   "outputs": [
    {
     "data": {
      "text/html": [
       "51.7244306418219"
      ],
      "text/latex": [
       "51.7244306418219"
      ],
      "text/markdown": [
       "51.7244306418219"
      ],
      "text/plain": [
       "[1] 51.72443"
      ]
     },
     "metadata": {},
     "output_type": "display_data"
    }
   ],
   "source": [
    "var(df$x3)"
   ]
  },
  {
   "cell_type": "code",
   "execution_count": 23,
   "metadata": {
    "vscode": {
     "languageId": "r"
    }
   },
   "outputs": [
    {
     "data": {
      "text/plain": [
       "\n",
       "\tPearson's product-moment correlation\n",
       "\n",
       "data:  df$x1 and df$d1\n",
       "t = 1.3522, df = 68, p-value = 0.1808\n",
       "alternative hypothesis: true correlation is not equal to 0\n",
       "95 percent confidence interval:\n",
       " -0.0760450  0.3822596\n",
       "sample estimates:\n",
       "      cor \n",
       "0.1618205 \n"
      ]
     },
     "metadata": {},
     "output_type": "display_data"
    }
   ],
   "source": [
    "cor.test(df$x1,df$d1)"
   ]
  },
  {
   "cell_type": "code",
   "execution_count": null,
   "metadata": {
    "vscode": {
     "languageId": "r"
    }
   },
   "outputs": [],
   "source": []
  }
 ],
 "metadata": {
  "kernelspec": {
   "display_name": "R",
   "language": "R",
   "name": "ir"
  },
  "language_info": {
   "codemirror_mode": "r",
   "file_extension": ".r",
   "mimetype": "text/x-r-source",
   "name": "R",
   "pygments_lexer": "r",
   "version": "4.2.1"
  },
  "orig_nbformat": 4
 },
 "nbformat": 4,
 "nbformat_minor": 2
}
