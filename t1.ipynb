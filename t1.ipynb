{
 "cells": [
  {
   "cell_type": "code",
   "execution_count": 18,
   "metadata": {
    "vscode": {
     "languageId": "r"
    }
   },
   "outputs": [],
   "source": [
    "library(ggplot2)\n",
    "library(lmtest)\n",
    "library(urca)\n",
    "library(sandwich)\n",
    "library(car)\n",
    "library(carData)\n",
    "library(forecast)\n",
    "library(tseries)\n",
    "library(dummy)\n",
    "library(seasonal)\n",
    "library(hexView)\n",
    "library(strucchange)\n",
    "library(fBasics)\n",
    "library(e1071)\n",
    "library(readxl)"
   ]
  },
  {
   "cell_type": "code",
   "execution_count": 19,
   "metadata": {
    "vscode": {
     "languageId": "r"
    }
   },
   "outputs": [
    {
     "name": "stdout",
     "output_type": "stream",
     "text": [
      "[1] \"Data_R_test\"\n"
     ]
    }
   ],
   "source": [
    "print(load(\"Data_R_test.rda\"))"
   ]
  },
  {
   "cell_type": "code",
   "execution_count": 20,
   "metadata": {
    "vscode": {
     "languageId": "r"
    }
   },
   "outputs": [],
   "source": [
    "df<-Data_R_test"
   ]
  },
  {
   "cell_type": "code",
   "execution_count": 22,
   "metadata": {
    "vscode": {
     "languageId": "r"
    }
   },
   "outputs": [
    {
     "data": {
      "text/html": [
       "51.7244306418219"
      ],
      "text/latex": [
       "51.7244306418219"
      ],
      "text/markdown": [
       "51.7244306418219"
      ],
      "text/plain": [
       "[1] 51.72443"
      ]
     },
     "metadata": {},
     "output_type": "display_data"
    }
   ],
   "source": [
    "var(df$x3)"
   ]
  },
  {
   "cell_type": "code",
   "execution_count": 23,
   "metadata": {
    "vscode": {
     "languageId": "r"
    }
   },
   "outputs": [
    {
     "data": {
      "text/plain": [
       "\n",
       "\tPearson's product-moment correlation\n",
       "\n",
       "data:  df$x1 and df$d1\n",
       "t = 1.3522, df = 68, p-value = 0.1808\n",
       "alternative hypothesis: true correlation is not equal to 0\n",
       "95 percent confidence interval:\n",
       " -0.0760450  0.3822596\n",
       "sample estimates:\n",
       "      cor \n",
       "0.1618205 \n"
      ]
     },
     "metadata": {},
     "output_type": "display_data"
    }
   ],
   "source": [
    "cor.test(df$x1,df$d1)"
   ]
  },
  {
   "cell_type": "code",
   "execution_count": 27,
   "metadata": {
    "vscode": {
     "languageId": "r"
    }
   },
   "outputs": [
    {
     "data": {
      "text/html": [
       "-0.282185528138135"
      ],
      "text/latex": [
       "-0.282185528138135"
      ],
      "text/markdown": [
       "-0.282185528138135"
      ],
      "text/plain": [
       "[1] -0.2821855"
      ]
     },
     "metadata": {},
     "output_type": "display_data"
    }
   ],
   "source": [
    "((df$x1-mean(df$x1))/stdev(df$x1))[1]"
   ]
  },
  {
   "cell_type": "code",
   "execution_count": 28,
   "metadata": {
    "vscode": {
     "languageId": "r"
    }
   },
   "outputs": [
    {
     "data": {
      "text/plain": [
       "\n",
       "Call:\n",
       "lm(formula = y1 ~ x1 + x2 + x3, data = df)\n",
       "\n",
       "Residuals:\n",
       "    Min      1Q  Median      3Q     Max \n",
       "-23.197 -10.929  -0.116  10.272  24.740 \n",
       "\n",
       "Coefficients:\n",
       "            Estimate Std. Error t value Pr(>|t|)    \n",
       "(Intercept) -2.31690    6.50074  -0.356    0.723    \n",
       "x1           1.47060    0.13398  10.976  < 2e-16 ***\n",
       "x2           1.06487    0.08851  12.031  < 2e-16 ***\n",
       "x3          -1.95580    0.21364  -9.155 2.31e-13 ***\n",
       "---\n",
       "Signif. codes:  0 '***' 0.001 '**' 0.01 '*' 0.05 '.' 0.1 ' ' 1\n",
       "\n",
       "Residual standard error: 12.73 on 66 degrees of freedom\n",
       "Multiple R-squared:  0.8328,\tAdjusted R-squared:  0.8252 \n",
       "F-statistic: 109.6 on 3 and 66 DF,  p-value: < 2.2e-16\n"
      ]
     },
     "metadata": {},
     "output_type": "display_data"
    }
   ],
   "source": [
    "reg<-lm(data=df,y1~x1+x2+x3)\n",
    "summary(reg)"
   ]
  },
  {
   "cell_type": "code",
   "execution_count": 31,
   "metadata": {
    "vscode": {
     "languageId": "r"
    }
   },
   "outputs": [
    {
     "data": {
      "text/html": [
       "<table class=\"dataframe\">\n",
       "<caption>A matrix: 4 × 2 of type dbl</caption>\n",
       "<thead>\n",
       "\t<tr><th></th><th scope=col>2.5 %</th><th scope=col>97.5 %</th></tr>\n",
       "</thead>\n",
       "<tbody>\n",
       "\t<tr><th scope=row>(Intercept)</th><td>-15.2960440</td><td>10.662243</td></tr>\n",
       "\t<tr><th scope=row>x1</th><td>  1.2030906</td><td> 1.738103</td></tr>\n",
       "\t<tr><th scope=row>x2</th><td>  0.8881498</td><td> 1.241597</td></tr>\n",
       "\t<tr><th scope=row>x3</th><td> -2.3823335</td><td>-1.529257</td></tr>\n",
       "</tbody>\n",
       "</table>\n"
      ],
      "text/latex": [
       "A matrix: 4 × 2 of type dbl\n",
       "\\begin{tabular}{r|ll}\n",
       "  & 2.5 \\% & 97.5 \\%\\\\\n",
       "\\hline\n",
       "\t(Intercept) & -15.2960440 & 10.662243\\\\\n",
       "\tx1 &   1.2030906 &  1.738103\\\\\n",
       "\tx2 &   0.8881498 &  1.241597\\\\\n",
       "\tx3 &  -2.3823335 & -1.529257\\\\\n",
       "\\end{tabular}\n"
      ],
      "text/markdown": [
       "\n",
       "A matrix: 4 × 2 of type dbl\n",
       "\n",
       "| <!--/--> | 2.5 % | 97.5 % |\n",
       "|---|---|---|\n",
       "| (Intercept) | -15.2960440 | 10.662243 |\n",
       "| x1 |   1.2030906 |  1.738103 |\n",
       "| x2 |   0.8881498 |  1.241597 |\n",
       "| x3 |  -2.3823335 | -1.529257 |\n",
       "\n"
      ],
      "text/plain": [
       "            2.5 %       97.5 %   \n",
       "(Intercept) -15.2960440 10.662243\n",
       "x1            1.2030906  1.738103\n",
       "x2            0.8881498  1.241597\n",
       "x3           -2.3823335 -1.529257"
      ]
     },
     "metadata": {},
     "output_type": "display_data"
    }
   ],
   "source": [
    "confint(reg)"
   ]
  },
  {
   "cell_type": "code",
   "execution_count": null,
   "metadata": {
    "vscode": {
     "languageId": "r"
    }
   },
   "outputs": [],
   "source": []
  }
 ],
 "metadata": {
  "kernelspec": {
   "display_name": "R",
   "language": "R",
   "name": "ir"
  },
  "language_info": {
   "codemirror_mode": "r",
   "file_extension": ".r",
   "mimetype": "text/x-r-source",
   "name": "R",
   "pygments_lexer": "r",
   "version": "4.2.1"
  },
  "orig_nbformat": 4
 },
 "nbformat": 4,
 "nbformat_minor": 2
}
