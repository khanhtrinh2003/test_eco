{
 "cells": [
  {
   "cell_type": "code",
   "execution_count": 18,
   "metadata": {
    "vscode": {
     "languageId": "r"
    }
   },
   "outputs": [],
   "source": [
    "library(ggplot2)\n",
    "library(lmtest)\n",
    "library(urca)\n",
    "library(sandwich)\n",
    "library(car)\n",
    "library(carData)\n",
    "library(forecast)\n",
    "library(tseries)\n",
    "library(dummy)\n",
    "library(seasonal)\n",
    "library(hexView)\n",
    "library(strucchange)\n",
    "library(fBasics)\n",
    "library(e1071)\n",
    "library(readxl)"
   ]
  },
  {
   "cell_type": "code",
   "execution_count": 19,
   "metadata": {
    "vscode": {
     "languageId": "r"
    }
   },
   "outputs": [
    {
     "name": "stdout",
     "output_type": "stream",
     "text": [
      "[1] \"Data_R_test\"\n"
     ]
    }
   ],
   "source": [
    "print(load(\"Data_R_test.rda\"))"
   ]
  },
  {
   "cell_type": "code",
   "execution_count": 20,
   "metadata": {
    "vscode": {
     "languageId": "r"
    }
   },
   "outputs": [],
   "source": [
    "df<-Data_R_test"
   ]
  },
  {
   "cell_type": "code",
   "execution_count": 22,
   "metadata": {
    "vscode": {
     "languageId": "r"
    }
   },
   "outputs": [
    {
     "data": {
      "text/html": [
       "51.7244306418219"
      ],
      "text/latex": [
       "51.7244306418219"
      ],
      "text/markdown": [
       "51.7244306418219"
      ],
      "text/plain": [
       "[1] 51.72443"
      ]
     },
     "metadata": {},
     "output_type": "display_data"
    }
   ],
   "source": [
    "var(df$x3)"
   ]
  },
  {
   "cell_type": "code",
   "execution_count": 23,
   "metadata": {
    "vscode": {
     "languageId": "r"
    }
   },
   "outputs": [
    {
     "data": {
      "text/plain": [
       "\n",
       "\tPearson's product-moment correlation\n",
       "\n",
       "data:  df$x1 and df$d1\n",
       "t = 1.3522, df = 68, p-value = 0.1808\n",
       "alternative hypothesis: true correlation is not equal to 0\n",
       "95 percent confidence interval:\n",
       " -0.0760450  0.3822596\n",
       "sample estimates:\n",
       "      cor \n",
       "0.1618205 \n"
      ]
     },
     "metadata": {},
     "output_type": "display_data"
    }
   ],
   "source": [
    "cor.test(df$x1,df$d1)"
   ]
  },
  {
   "cell_type": "code",
   "execution_count": 27,
   "metadata": {
    "vscode": {
     "languageId": "r"
    }
   },
   "outputs": [
    {
     "data": {
      "text/html": [
       "-0.282185528138135"
      ],
      "text/latex": [
       "-0.282185528138135"
      ],
      "text/markdown": [
       "-0.282185528138135"
      ],
      "text/plain": [
       "[1] -0.2821855"
      ]
     },
     "metadata": {},
     "output_type": "display_data"
    }
   ],
   "source": [
    "((df$x1-mean(df$x1))/stdev(df$x1))[1]"
   ]
  },
  {
   "cell_type": "code",
   "execution_count": 28,
   "metadata": {
    "vscode": {
     "languageId": "r"
    }
   },
   "outputs": [
    {
     "data": {
      "text/plain": [
       "\n",
       "Call:\n",
       "lm(formula = y1 ~ x1 + x2 + x3, data = df)\n",
       "\n",
       "Residuals:\n",
       "    Min      1Q  Median      3Q     Max \n",
       "-23.197 -10.929  -0.116  10.272  24.740 \n",
       "\n",
       "Coefficients:\n",
       "            Estimate Std. Error t value Pr(>|t|)    \n",
       "(Intercept) -2.31690    6.50074  -0.356    0.723    \n",
       "x1           1.47060    0.13398  10.976  < 2e-16 ***\n",
       "x2           1.06487    0.08851  12.031  < 2e-16 ***\n",
       "x3          -1.95580    0.21364  -9.155 2.31e-13 ***\n",
       "---\n",
       "Signif. codes:  0 '***' 0.001 '**' 0.01 '*' 0.05 '.' 0.1 ' ' 1\n",
       "\n",
       "Residual standard error: 12.73 on 66 degrees of freedom\n",
       "Multiple R-squared:  0.8328,\tAdjusted R-squared:  0.8252 \n",
       "F-statistic: 109.6 on 3 and 66 DF,  p-value: < 2.2e-16\n"
      ]
     },
     "metadata": {},
     "output_type": "display_data"
    }
   ],
   "source": [
    "reg<-lm(data=df,y1~x1+x2+x3)\n",
    "summary(reg)"
   ]
  },
  {
   "cell_type": "code",
   "execution_count": 31,
   "metadata": {
    "vscode": {
     "languageId": "r"
    }
   },
   "outputs": [
    {
     "data": {
      "text/html": [
       "<table class=\"dataframe\">\n",
       "<caption>A matrix: 4 × 2 of type dbl</caption>\n",
       "<thead>\n",
       "\t<tr><th></th><th scope=col>2.5 %</th><th scope=col>97.5 %</th></tr>\n",
       "</thead>\n",
       "<tbody>\n",
       "\t<tr><th scope=row>(Intercept)</th><td>-15.2960440</td><td>10.662243</td></tr>\n",
       "\t<tr><th scope=row>x1</th><td>  1.2030906</td><td> 1.738103</td></tr>\n",
       "\t<tr><th scope=row>x2</th><td>  0.8881498</td><td> 1.241597</td></tr>\n",
       "\t<tr><th scope=row>x3</th><td> -2.3823335</td><td>-1.529257</td></tr>\n",
       "</tbody>\n",
       "</table>\n"
      ],
      "text/latex": [
       "A matrix: 4 × 2 of type dbl\n",
       "\\begin{tabular}{r|ll}\n",
       "  & 2.5 \\% & 97.5 \\%\\\\\n",
       "\\hline\n",
       "\t(Intercept) & -15.2960440 & 10.662243\\\\\n",
       "\tx1 &   1.2030906 &  1.738103\\\\\n",
       "\tx2 &   0.8881498 &  1.241597\\\\\n",
       "\tx3 &  -2.3823335 & -1.529257\\\\\n",
       "\\end{tabular}\n"
      ],
      "text/markdown": [
       "\n",
       "A matrix: 4 × 2 of type dbl\n",
       "\n",
       "| <!--/--> | 2.5 % | 97.5 % |\n",
       "|---|---|---|\n",
       "| (Intercept) | -15.2960440 | 10.662243 |\n",
       "| x1 |   1.2030906 |  1.738103 |\n",
       "| x2 |   0.8881498 |  1.241597 |\n",
       "| x3 |  -2.3823335 | -1.529257 |\n",
       "\n"
      ],
      "text/plain": [
       "            2.5 %       97.5 %   \n",
       "(Intercept) -15.2960440 10.662243\n",
       "x1            1.2030906  1.738103\n",
       "x2            0.8881498  1.241597\n",
       "x3           -2.3823335 -1.529257"
      ]
     },
     "metadata": {},
     "output_type": "display_data"
    }
   ],
   "source": [
    "confint(reg)"
   ]
  },
  {
   "cell_type": "code",
   "execution_count": 32,
   "metadata": {
    "vscode": {
     "languageId": "r"
    }
   },
   "outputs": [
    {
     "data": {
      "text/html": [
       "<table class=\"dataframe\">\n",
       "<caption>A matrix: 4 × 4 of type dbl</caption>\n",
       "<thead>\n",
       "\t<tr><th></th><th scope=col>(Intercept)</th><th scope=col>x1</th><th scope=col>x2</th><th scope=col>x3</th></tr>\n",
       "</thead>\n",
       "<tbody>\n",
       "\t<tr><th scope=row>(Intercept)</th><td>42.2596037</td><td>-0.5586882667</td><td>-0.3506421665</td><td>-0.4960077175</td></tr>\n",
       "\t<tr><th scope=row>x1</th><td>-0.5586883</td><td> 0.0179515336</td><td> 0.0001192416</td><td>-0.0005911608</td></tr>\n",
       "\t<tr><th scope=row>x2</th><td>-0.3506422</td><td> 0.0001192416</td><td> 0.0078346915</td><td>-0.0012931717</td></tr>\n",
       "\t<tr><th scope=row>x3</th><td>-0.4960077</td><td>-0.0005911608</td><td>-0.0012931717</td><td> 0.0456403631</td></tr>\n",
       "</tbody>\n",
       "</table>\n"
      ],
      "text/latex": [
       "A matrix: 4 × 4 of type dbl\n",
       "\\begin{tabular}{r|llll}\n",
       "  & (Intercept) & x1 & x2 & x3\\\\\n",
       "\\hline\n",
       "\t(Intercept) & 42.2596037 & -0.5586882667 & -0.3506421665 & -0.4960077175\\\\\n",
       "\tx1 & -0.5586883 &  0.0179515336 &  0.0001192416 & -0.0005911608\\\\\n",
       "\tx2 & -0.3506422 &  0.0001192416 &  0.0078346915 & -0.0012931717\\\\\n",
       "\tx3 & -0.4960077 & -0.0005911608 & -0.0012931717 &  0.0456403631\\\\\n",
       "\\end{tabular}\n"
      ],
      "text/markdown": [
       "\n",
       "A matrix: 4 × 4 of type dbl\n",
       "\n",
       "| <!--/--> | (Intercept) | x1 | x2 | x3 |\n",
       "|---|---|---|---|---|\n",
       "| (Intercept) | 42.2596037 | -0.5586882667 | -0.3506421665 | -0.4960077175 |\n",
       "| x1 | -0.5586883 |  0.0179515336 |  0.0001192416 | -0.0005911608 |\n",
       "| x2 | -0.3506422 |  0.0001192416 |  0.0078346915 | -0.0012931717 |\n",
       "| x3 | -0.4960077 | -0.0005911608 | -0.0012931717 |  0.0456403631 |\n",
       "\n"
      ],
      "text/plain": [
       "            (Intercept) x1            x2            x3           \n",
       "(Intercept) 42.2596037  -0.5586882667 -0.3506421665 -0.4960077175\n",
       "x1          -0.5586883   0.0179515336  0.0001192416 -0.0005911608\n",
       "x2          -0.3506422   0.0001192416  0.0078346915 -0.0012931717\n",
       "x3          -0.4960077  -0.0005911608 -0.0012931717  0.0456403631"
      ]
     },
     "metadata": {},
     "output_type": "display_data"
    }
   ],
   "source": [
    "vcov(reg)"
   ]
  },
  {
   "cell_type": "code",
   "execution_count": 33,
   "metadata": {
    "vscode": {
     "languageId": "r"
    }
   },
   "outputs": [
    {
     "data": {
      "text/html": [
       "<table class=\"dataframe\">\n",
       "<caption>A anova: 2 × 6</caption>\n",
       "<thead>\n",
       "\t<tr><th></th><th scope=col>Res.Df</th><th scope=col>RSS</th><th scope=col>Df</th><th scope=col>Sum of Sq</th><th scope=col>F</th><th scope=col>Pr(&gt;F)</th></tr>\n",
       "\t<tr><th></th><th scope=col>&lt;dbl&gt;</th><th scope=col>&lt;dbl&gt;</th><th scope=col>&lt;dbl&gt;</th><th scope=col>&lt;dbl&gt;</th><th scope=col>&lt;dbl&gt;</th><th scope=col>&lt;dbl&gt;</th></tr>\n",
       "</thead>\n",
       "<tbody>\n",
       "\t<tr><th scope=row>1</th><td>67</td><td>50728.90</td><td>NA</td><td>      NA</td><td>      NA</td><td>         NA</td></tr>\n",
       "\t<tr><th scope=row>2</th><td>66</td><td>10696.16</td><td> 1</td><td>40032.73</td><td>247.0195</td><td>5.38702e-24</td></tr>\n",
       "</tbody>\n",
       "</table>\n"
      ],
      "text/latex": [
       "A anova: 2 × 6\n",
       "\\begin{tabular}{r|llllll}\n",
       "  & Res.Df & RSS & Df & Sum of Sq & F & Pr(>F)\\\\\n",
       "  & <dbl> & <dbl> & <dbl> & <dbl> & <dbl> & <dbl>\\\\\n",
       "\\hline\n",
       "\t1 & 67 & 50728.90 & NA &       NA &       NA &          NA\\\\\n",
       "\t2 & 66 & 10696.16 &  1 & 40032.73 & 247.0195 & 5.38702e-24\\\\\n",
       "\\end{tabular}\n"
      ],
      "text/markdown": [
       "\n",
       "A anova: 2 × 6\n",
       "\n",
       "| <!--/--> | Res.Df &lt;dbl&gt; | RSS &lt;dbl&gt; | Df &lt;dbl&gt; | Sum of Sq &lt;dbl&gt; | F &lt;dbl&gt; | Pr(&gt;F) &lt;dbl&gt; |\n",
       "|---|---|---|---|---|---|---|\n",
       "| 1 | 67 | 50728.90 | NA |       NA |       NA |          NA |\n",
       "| 2 | 66 | 10696.16 |  1 | 40032.73 | 247.0195 | 5.38702e-24 |\n",
       "\n"
      ],
      "text/plain": [
       "  Res.Df RSS      Df Sum of Sq F        Pr(>F)     \n",
       "1 67     50728.90 NA       NA        NA          NA\n",
       "2 66     10696.16  1 40032.73  247.0195 5.38702e-24"
      ]
     },
     "metadata": {},
     "output_type": "display_data"
    }
   ],
   "source": [
    "linearHypothesis(reg,\"x1+x2=0\")"
   ]
  },
  {
   "cell_type": "code",
   "execution_count": 34,
   "metadata": {
    "vscode": {
     "languageId": "r"
    }
   },
   "outputs": [
    {
     "data": {
      "text/plain": [
       "\n",
       "Call:\n",
       "lm(formula = y1 ~ x1 + x2 + x3 + x4, data = df)\n",
       "\n",
       "Residuals:\n",
       "     Min       1Q   Median       3Q      Max \n",
       "-23.0723 -10.2890   0.7862  10.5954  22.8291 \n",
       "\n",
       "Coefficients:\n",
       "            Estimate Std. Error t value Pr(>|t|)    \n",
       "(Intercept)  6.89007    7.83999   0.879    0.383    \n",
       "x1           1.43680    0.13209  10.877 2.83e-16 ***\n",
       "x2           1.03843    0.08755  11.861  < 2e-16 ***\n",
       "x3          -1.97179    0.20905  -9.432 8.65e-14 ***\n",
       "x4          -1.44386    0.71964  -2.006    0.049 *  \n",
       "---\n",
       "Signif. codes:  0 '***' 0.001 '**' 0.01 '*' 0.05 '.' 0.1 ' ' 1\n",
       "\n",
       "Residual standard error: 12.45 on 65 degrees of freedom\n",
       "Multiple R-squared:  0.8426,\tAdjusted R-squared:  0.8329 \n",
       "F-statistic: 86.97 on 4 and 65 DF,  p-value: < 2.2e-16\n"
      ]
     },
     "metadata": {},
     "output_type": "display_data"
    }
   ],
   "source": [
    "reg1<-lm(data=df,y1~x1+x2+x3+x4)\n",
    "summary(reg1)"
   ]
  },
  {
   "cell_type": "code",
   "execution_count": 35,
   "metadata": {
    "vscode": {
     "languageId": "r"
    }
   },
   "outputs": [
    {
     "data": {
      "text/html": [
       "<table class=\"dataframe\">\n",
       "<caption>A anova: 2 × 6</caption>\n",
       "<thead>\n",
       "\t<tr><th></th><th scope=col>Res.Df</th><th scope=col>RSS</th><th scope=col>Df</th><th scope=col>Sum of Sq</th><th scope=col>F</th><th scope=col>Pr(&gt;F)</th></tr>\n",
       "\t<tr><th></th><th scope=col>&lt;dbl&gt;</th><th scope=col>&lt;dbl&gt;</th><th scope=col>&lt;dbl&gt;</th><th scope=col>&lt;dbl&gt;</th><th scope=col>&lt;dbl&gt;</th><th scope=col>&lt;dbl&gt;</th></tr>\n",
       "</thead>\n",
       "<tbody>\n",
       "\t<tr><th scope=row>1</th><td>66</td><td>10696.16</td><td>NA</td><td>      NA</td><td>      NA</td><td>        NA</td></tr>\n",
       "\t<tr><th scope=row>2</th><td>65</td><td>10072.38</td><td> 1</td><td>623.7814</td><td>4.025442</td><td>0.04898298</td></tr>\n",
       "</tbody>\n",
       "</table>\n"
      ],
      "text/latex": [
       "A anova: 2 × 6\n",
       "\\begin{tabular}{r|llllll}\n",
       "  & Res.Df & RSS & Df & Sum of Sq & F & Pr(>F)\\\\\n",
       "  & <dbl> & <dbl> & <dbl> & <dbl> & <dbl> & <dbl>\\\\\n",
       "\\hline\n",
       "\t1 & 66 & 10696.16 & NA &       NA &       NA &         NA\\\\\n",
       "\t2 & 65 & 10072.38 &  1 & 623.7814 & 4.025442 & 0.04898298\\\\\n",
       "\\end{tabular}\n"
      ],
      "text/markdown": [
       "\n",
       "A anova: 2 × 6\n",
       "\n",
       "| <!--/--> | Res.Df &lt;dbl&gt; | RSS &lt;dbl&gt; | Df &lt;dbl&gt; | Sum of Sq &lt;dbl&gt; | F &lt;dbl&gt; | Pr(&gt;F) &lt;dbl&gt; |\n",
       "|---|---|---|---|---|---|---|\n",
       "| 1 | 66 | 10696.16 | NA |       NA |       NA |         NA |\n",
       "| 2 | 65 | 10072.38 |  1 | 623.7814 | 4.025442 | 0.04898298 |\n",
       "\n"
      ],
      "text/plain": [
       "  Res.Df RSS      Df Sum of Sq F        Pr(>F)    \n",
       "1 66     10696.16 NA       NA        NA         NA\n",
       "2 65     10072.38  1 623.7814  4.025442 0.04898298"
      ]
     },
     "metadata": {},
     "output_type": "display_data"
    }
   ],
   "source": [
    "linearHypothesis(reg1,\"x4=0\")"
   ]
  },
  {
   "cell_type": "code",
   "execution_count": 37,
   "metadata": {
    "vscode": {
     "languageId": "r"
    }
   },
   "outputs": [
    {
     "data": {
      "text/plain": [
       "\n",
       "Call:\n",
       "lm(formula = log(y1) ~ log(x1) + log(x2), data = df)\n",
       "\n",
       "Residuals:\n",
       "     Min       1Q   Median       3Q      Max \n",
       "-2.24478 -0.14437  0.02951  0.25329  0.81869 \n",
       "\n",
       "Coefficients:\n",
       "            Estimate Std. Error t value Pr(>|t|)    \n",
       "(Intercept)  -1.3318     0.7516  -1.772    0.081 .  \n",
       "log(x1)       0.7988     0.1405   5.684 3.12e-07 ***\n",
       "log(x2)       0.7248     0.1466   4.945 5.39e-06 ***\n",
       "---\n",
       "Signif. codes:  0 '***' 0.001 '**' 0.01 '*' 0.05 '.' 0.1 ' ' 1\n",
       "\n",
       "Residual standard error: 0.4743 on 67 degrees of freedom\n",
       "Multiple R-squared:  0.4433,\tAdjusted R-squared:  0.4267 \n",
       "F-statistic: 26.68 on 2 and 67 DF,  p-value: 3.006e-09\n"
      ]
     },
     "metadata": {},
     "output_type": "display_data"
    }
   ],
   "source": [
    "reg2 <- lm(data=df,log(y1)~log(x1)+log(x2))\n",
    "summary(reg2)"
   ]
  },
  {
   "cell_type": "code",
   "execution_count": 38,
   "metadata": {
    "vscode": {
     "languageId": "r"
    }
   },
   "outputs": [
    {
     "data": {
      "text/plain": [
       "\n",
       "Call:\n",
       "lm(formula = y1 ~ x1 + x2 + I(x2 * x3), data = df)\n",
       "\n",
       "Residuals:\n",
       "    Min      1Q  Median      3Q     Max \n",
       "-20.483 -10.853  -1.228   9.505  27.837 \n",
       "\n",
       "Coefficients:\n",
       "              Estimate Std. Error t value Pr(>|t|)    \n",
       "(Intercept) -28.215179   6.287741  -4.487 2.96e-05 ***\n",
       "x1            1.493841   0.138322  10.800 3.14e-16 ***\n",
       "x2            1.543600   0.110085  14.022  < 2e-16 ***\n",
       "I(x2 * x3)   -0.036556   0.004229  -8.645 1.86e-12 ***\n",
       "---\n",
       "Signif. codes:  0 '***' 0.001 '**' 0.01 '*' 0.05 '.' 0.1 ' ' 1\n",
       "\n",
       "Residual standard error: 13.13 on 66 degrees of freedom\n",
       "Multiple R-squared:  0.822,\tAdjusted R-squared:  0.8139 \n",
       "F-statistic: 101.6 on 3 and 66 DF,  p-value: < 2.2e-16\n"
      ]
     },
     "metadata": {},
     "output_type": "display_data"
    }
   ],
   "source": [
    "reg3<-lm(data=df,y1~x1+x2+I(x2*x3))\n",
    "summary(reg3)"
   ]
  },
  {
   "cell_type": "code",
   "execution_count": 52,
   "metadata": {
    "vscode": {
     "languageId": "r"
    }
   },
   "outputs": [
    {
     "data": {
      "text/plain": [
       "\n",
       "Call:\n",
       "lm(formula = y1 ~ x1 + d1, data = df)\n",
       "\n",
       "Residuals:\n",
       "    Min      1Q  Median      3Q     Max \n",
       "-52.882 -17.885  -2.236  20.230  46.148 \n",
       "\n",
       "Coefficients:\n",
       "            Estimate Std. Error t value Pr(>|t|)    \n",
       "(Intercept)  19.2001     8.5064   2.257   0.0273 *  \n",
       "x1            1.2905     0.2564   5.034 3.85e-06 ***\n",
       "d1           20.0012     5.8623   3.412   0.0011 ** \n",
       "---\n",
       "Signif. codes:  0 '***' 0.001 '**' 0.01 '*' 0.05 '.' 0.1 ' ' 1\n",
       "\n",
       "Residual standard error: 24.04 on 67 degrees of freedom\n",
       "Multiple R-squared:  0.3947,\tAdjusted R-squared:  0.3766 \n",
       "F-statistic: 21.84 on 2 and 67 DF,  p-value: 4.974e-08\n"
      ]
     },
     "metadata": {},
     "output_type": "display_data"
    }
   ],
   "source": [
    "reg4 <- lm(data=df,y1~x1+d1+I(x1*d1))\n",
    "summary(reg4)"
   ]
  },
  {
   "cell_type": "code",
   "execution_count": 42,
   "metadata": {
    "vscode": {
     "languageId": "r"
    }
   },
   "outputs": [
    {
     "data": {
      "text/plain": [
       "\n",
       "\tRESET test\n",
       "\n",
       "data:  reg5\n",
       "RESET = 0.089254, df1 = 2, df2 = 65, p-value = 0.9147\n"
      ]
     },
     "metadata": {},
     "output_type": "display_data"
    }
   ],
   "source": [
    "reg5 <- lm(data=df,y1~x1+x2)\n",
    "reset(reg5)"
   ]
  },
  {
   "cell_type": "code",
   "execution_count": 43,
   "metadata": {
    "vscode": {
     "languageId": "r"
    }
   },
   "outputs": [
    {
     "data": {
      "text/plain": [
       "\n",
       "\tBreusch-Godfrey test for serial correlation of order up to 1\n",
       "\n",
       "data:  reg5\n",
       "LM test = 0.4479, df = 1, p-value = 0.5033\n"
      ]
     },
     "metadata": {},
     "output_type": "display_data"
    }
   ],
   "source": [
    "bgtest(reg5)"
   ]
  },
  {
   "cell_type": "code",
   "execution_count": 46,
   "metadata": {
    "vscode": {
     "languageId": "r"
    }
   },
   "outputs": [
    {
     "data": {
      "text/html": [
       "<style>\n",
       ".dl-inline {width: auto; margin:0; padding: 0}\n",
       ".dl-inline>dt, .dl-inline>dd {float: none; width: auto; display: inline-block}\n",
       ".dl-inline>dt::after {content: \":\\0020\"; padding-right: .5ex}\n",
       ".dl-inline>dt:not(:first-of-type) {padding-left: .5ex}\n",
       "</style><dl class=dl-inline><dt>x1</dt><dd>1.00050183201849</dd><dt>x2</dt><dd>1.00477412446508</dd><dt>x3</dt><dd>1.00510126299925</dd></dl>\n"
      ],
      "text/latex": [
       "\\begin{description*}\n",
       "\\item[x1] 1.00050183201849\n",
       "\\item[x2] 1.00477412446508\n",
       "\\item[x3] 1.00510126299925\n",
       "\\end{description*}\n"
      ],
      "text/markdown": [
       "x1\n",
       ":   1.00050183201849x2\n",
       ":   1.00477412446508x3\n",
       ":   1.00510126299925\n",
       "\n"
      ],
      "text/plain": [
       "      x1       x2       x3 \n",
       "1.000502 1.004774 1.005101 "
      ]
     },
     "metadata": {},
     "output_type": "display_data"
    }
   ],
   "source": [
    "reg<-lm(data=df,y1~x1+x2+x3)\n",
    "vif(reg)"
   ]
  },
  {
   "cell_type": "code",
   "execution_count": 47,
   "metadata": {
    "vscode": {
     "languageId": "r"
    }
   },
   "outputs": [
    {
     "data": {
      "text/html": [
       "<style>\n",
       ".list-inline {list-style: none; margin:0; padding: 0}\n",
       ".list-inline>li {display: inline-block}\n",
       ".list-inline>li:not(:last-child)::after {content: \"\\00b7\"; padding: 0 .5ex}\n",
       "</style>\n",
       "<ol class=list-inline><li>-0.63761589206261</li><li>-0.0814400360578411</li><li>0.335691855945735</li><li>0.891867711950504</li><li>-0.63761589206261</li><li>0.891867711950504</li><li>-0.359527964060225</li><li>-0.359527964060225</li><li>-0.915703820064994</li><li>1.16995563995289</li><li>1.30899960395408</li><li>-0.220484000059033</li><li>0.61377978394812</li><li>0.752823747949312</li><li>-0.359527964060225</li><li>-0.915703820064994</li><li>-0.498571928061417</li><li>0.752823747949312</li><li>-1.47187967606976</li><li>-0.776659856063802</li><li>0.891867711950504</li><li>1.44804356795527</li><li>1.44804356795527</li><li>-0.776659856063802</li><li>-1.19379174806738</li><li>-1.47187967606976</li><li>-0.498571928061417</li><li>0.335691855945735</li><li>1.58708753195646</li><li>-1.19379174806738</li><li>0.335691855945735</li><li>-1.33283571206857</li><li>-1.47187967606976</li><li>0.474735819946927</li><li>-1.05474778406619</li><li>1.72613149595766</li><li>1.58708753195646</li><li>0.196647891944543</li><li>-1.61092364007095</li><li>1.72613149595766</li><li>1.30899960395408</li><li>1.58708753195646</li><li>0.474735819946927</li><li>-0.359527964060225</li><li>1.16995563995289</li><li>-0.220484000059033</li><li>-0.220484000059033</li><li>-0.359527964060225</li><li>-1.05474778406619</li><li>0.196647891944543</li><li>-1.33283571206857</li><li>0.196647891944543</li><li>-0.359527964060225</li><li>0.474735819946927</li><li>-1.19379174806738</li><li>-0.359527964060225</li><li>-1.61092364007095</li><li>1.30899960395408</li><li>0.891867711950504</li><li>-1.47187967606976</li><li>1.0309116759517</li><li>0.0576039279433511</li><li>1.58708753195646</li><li>-0.498571928061417</li><li>1.44804356795527</li><li>-0.776659856063802</li><li>-0.359527964060225</li><li>-0.498571928061417</li><li>-0.63761589206261</li><li>-1.05474778406619</li></ol>\n"
      ],
      "text/latex": [
       "\\begin{enumerate*}\n",
       "\\item -0.63761589206261\n",
       "\\item -0.0814400360578411\n",
       "\\item 0.335691855945735\n",
       "\\item 0.891867711950504\n",
       "\\item -0.63761589206261\n",
       "\\item 0.891867711950504\n",
       "\\item -0.359527964060225\n",
       "\\item -0.359527964060225\n",
       "\\item -0.915703820064994\n",
       "\\item 1.16995563995289\n",
       "\\item 1.30899960395408\n",
       "\\item -0.220484000059033\n",
       "\\item 0.61377978394812\n",
       "\\item 0.752823747949312\n",
       "\\item -0.359527964060225\n",
       "\\item -0.915703820064994\n",
       "\\item -0.498571928061417\n",
       "\\item 0.752823747949312\n",
       "\\item -1.47187967606976\n",
       "\\item -0.776659856063802\n",
       "\\item 0.891867711950504\n",
       "\\item 1.44804356795527\n",
       "\\item 1.44804356795527\n",
       "\\item -0.776659856063802\n",
       "\\item -1.19379174806738\n",
       "\\item -1.47187967606976\n",
       "\\item -0.498571928061417\n",
       "\\item 0.335691855945735\n",
       "\\item 1.58708753195646\n",
       "\\item -1.19379174806738\n",
       "\\item 0.335691855945735\n",
       "\\item -1.33283571206857\n",
       "\\item -1.47187967606976\n",
       "\\item 0.474735819946927\n",
       "\\item -1.05474778406619\n",
       "\\item 1.72613149595766\n",
       "\\item 1.58708753195646\n",
       "\\item 0.196647891944543\n",
       "\\item -1.61092364007095\n",
       "\\item 1.72613149595766\n",
       "\\item 1.30899960395408\n",
       "\\item 1.58708753195646\n",
       "\\item 0.474735819946927\n",
       "\\item -0.359527964060225\n",
       "\\item 1.16995563995289\n",
       "\\item -0.220484000059033\n",
       "\\item -0.220484000059033\n",
       "\\item -0.359527964060225\n",
       "\\item -1.05474778406619\n",
       "\\item 0.196647891944543\n",
       "\\item -1.33283571206857\n",
       "\\item 0.196647891944543\n",
       "\\item -0.359527964060225\n",
       "\\item 0.474735819946927\n",
       "\\item -1.19379174806738\n",
       "\\item -0.359527964060225\n",
       "\\item -1.61092364007095\n",
       "\\item 1.30899960395408\n",
       "\\item 0.891867711950504\n",
       "\\item -1.47187967606976\n",
       "\\item 1.0309116759517\n",
       "\\item 0.0576039279433511\n",
       "\\item 1.58708753195646\n",
       "\\item -0.498571928061417\n",
       "\\item 1.44804356795527\n",
       "\\item -0.776659856063802\n",
       "\\item -0.359527964060225\n",
       "\\item -0.498571928061417\n",
       "\\item -0.63761589206261\n",
       "\\item -1.05474778406619\n",
       "\\end{enumerate*}\n"
      ],
      "text/markdown": [
       "1. -0.63761589206261\n",
       "2. -0.0814400360578411\n",
       "3. 0.335691855945735\n",
       "4. 0.891867711950504\n",
       "5. -0.63761589206261\n",
       "6. 0.891867711950504\n",
       "7. -0.359527964060225\n",
       "8. -0.359527964060225\n",
       "9. -0.915703820064994\n",
       "10. 1.16995563995289\n",
       "11. 1.30899960395408\n",
       "12. -0.220484000059033\n",
       "13. 0.61377978394812\n",
       "14. 0.752823747949312\n",
       "15. -0.359527964060225\n",
       "16. -0.915703820064994\n",
       "17. -0.498571928061417\n",
       "18. 0.752823747949312\n",
       "19. -1.47187967606976\n",
       "20. -0.776659856063802\n",
       "21. 0.891867711950504\n",
       "22. 1.44804356795527\n",
       "23. 1.44804356795527\n",
       "24. -0.776659856063802\n",
       "25. -1.19379174806738\n",
       "26. -1.47187967606976\n",
       "27. -0.498571928061417\n",
       "28. 0.335691855945735\n",
       "29. 1.58708753195646\n",
       "30. -1.19379174806738\n",
       "31. 0.335691855945735\n",
       "32. -1.33283571206857\n",
       "33. -1.47187967606976\n",
       "34. 0.474735819946927\n",
       "35. -1.05474778406619\n",
       "36. 1.72613149595766\n",
       "37. 1.58708753195646\n",
       "38. 0.196647891944543\n",
       "39. -1.61092364007095\n",
       "40. 1.72613149595766\n",
       "41. 1.30899960395408\n",
       "42. 1.58708753195646\n",
       "43. 0.474735819946927\n",
       "44. -0.359527964060225\n",
       "45. 1.16995563995289\n",
       "46. -0.220484000059033\n",
       "47. -0.220484000059033\n",
       "48. -0.359527964060225\n",
       "49. -1.05474778406619\n",
       "50. 0.196647891944543\n",
       "51. -1.33283571206857\n",
       "52. 0.196647891944543\n",
       "53. -0.359527964060225\n",
       "54. 0.474735819946927\n",
       "55. -1.19379174806738\n",
       "56. -0.359527964060225\n",
       "57. -1.61092364007095\n",
       "58. 1.30899960395408\n",
       "59. 0.891867711950504\n",
       "60. -1.47187967606976\n",
       "61. 1.0309116759517\n",
       "62. 0.0576039279433511\n",
       "63. 1.58708753195646\n",
       "64. -0.498571928061417\n",
       "65. 1.44804356795527\n",
       "66. -0.776659856063802\n",
       "67. -0.359527964060225\n",
       "68. -0.498571928061417\n",
       "69. -0.63761589206261\n",
       "70. -1.05474778406619\n",
       "\n",
       "\n"
      ],
      "text/plain": [
       " [1] -0.63761589 -0.08144004  0.33569186  0.89186771 -0.63761589  0.89186771\n",
       " [7] -0.35952796 -0.35952796 -0.91570382  1.16995564  1.30899960 -0.22048400\n",
       "[13]  0.61377978  0.75282375 -0.35952796 -0.91570382 -0.49857193  0.75282375\n",
       "[19] -1.47187968 -0.77665986  0.89186771  1.44804357  1.44804357 -0.77665986\n",
       "[25] -1.19379175 -1.47187968 -0.49857193  0.33569186  1.58708753 -1.19379175\n",
       "[31]  0.33569186 -1.33283571 -1.47187968  0.47473582 -1.05474778  1.72613150\n",
       "[37]  1.58708753  0.19664789 -1.61092364  1.72613150  1.30899960  1.58708753\n",
       "[43]  0.47473582 -0.35952796  1.16995564 -0.22048400 -0.22048400 -0.35952796\n",
       "[49] -1.05474778  0.19664789 -1.33283571  0.19664789 -0.35952796  0.47473582\n",
       "[55] -1.19379175 -0.35952796 -1.61092364  1.30899960  0.89186771 -1.47187968\n",
       "[61]  1.03091168  0.05760393  1.58708753 -0.49857193  1.44804357 -0.77665986\n",
       "[67] -0.35952796 -0.49857193 -0.63761589 -1.05474778"
      ]
     },
     "metadata": {},
     "output_type": "display_data"
    }
   ],
   "source": [
    "(df$x3-mean(df$x3))/stdev(df$x3)"
   ]
  },
  {
   "cell_type": "code",
   "execution_count": 50,
   "metadata": {
    "vscode": {
     "languageId": "r"
    }
   },
   "outputs": [
    {
     "data": {
      "text/html": [
       "0.00195049845179424"
      ],
      "text/latex": [
       "0.00195049845179424"
      ],
      "text/markdown": [
       "0.00195049845179424"
      ],
      "text/plain": [
       "[1] 0.001950498"
      ]
     },
     "metadata": {},
     "output_type": "display_data"
    }
   ],
   "source": [
    "min(cooks.distance(reg)[1:5])"
   ]
  },
  {
   "cell_type": "code",
   "execution_count": 51,
   "metadata": {
    "vscode": {
     "languageId": "r"
    }
   },
   "outputs": [
    {
     "data": {
      "text/html": [
       "<style>\n",
       ".dl-inline {width: auto; margin:0; padding: 0}\n",
       ".dl-inline>dt, .dl-inline>dd {float: none; width: auto; display: inline-block}\n",
       ".dl-inline>dt::after {content: \":\\0020\"; padding-right: .5ex}\n",
       ".dl-inline>dt:not(:first-of-type) {padding-left: .5ex}\n",
       "</style><dl class=dl-inline><dt>1</dt><dd>0.0126494144492413</dd><dt>2</dt><dd>0.00195049845179424</dd><dt>3</dt><dd>0.0261457441438853</dd><dt>4</dt><dd>0.0386743616738154</dd><dt>5</dt><dd>0.00472825376856049</dd></dl>\n"
      ],
      "text/latex": [
       "\\begin{description*}\n",
       "\\item[1] 0.0126494144492413\n",
       "\\item[2] 0.00195049845179424\n",
       "\\item[3] 0.0261457441438853\n",
       "\\item[4] 0.0386743616738154\n",
       "\\item[5] 0.00472825376856049\n",
       "\\end{description*}\n"
      ],
      "text/markdown": [
       "1\n",
       ":   0.01264941444924132\n",
       ":   0.001950498451794243\n",
       ":   0.02614574414388534\n",
       ":   0.03867436167381545\n",
       ":   0.00472825376856049\n",
       "\n"
      ],
      "text/plain": [
       "          1           2           3           4           5 \n",
       "0.012649414 0.001950498 0.026145744 0.038674362 0.004728254 "
      ]
     },
     "metadata": {},
     "output_type": "display_data"
    }
   ],
   "source": [
    "cooks.distance(reg)[1:5]"
   ]
  },
  {
   "cell_type": "code",
   "execution_count": 60,
   "metadata": {
    "vscode": {
     "languageId": "r"
    }
   },
   "outputs": [],
   "source": [
    "reg7 <- lm(y1~x1+x2,data=df)"
   ]
  },
  {
   "cell_type": "code",
   "execution_count": 61,
   "metadata": {
    "vscode": {
     "languageId": "r"
    }
   },
   "outputs": [
    {
     "data": {
      "text/plain": [
       "\n",
       "t test of coefficients:\n",
       "\n",
       "             Estimate Std. Error t value  Pr(>|t|)    \n",
       "(Intercept) -23.57198    9.05061 -2.6045   0.01132 *  \n",
       "x1            1.44526    0.22586  6.3989 1.775e-08 ***\n",
       "x2            1.00946    0.12460  8.1017 1.578e-11 ***\n",
       "---\n",
       "Signif. codes:  0 '***' 0.001 '**' 0.01 '*' 0.05 '.' 0.1 ' ' 1\n"
      ]
     },
     "metadata": {},
     "output_type": "display_data"
    }
   ],
   "source": [
    "coeftest(reg7, vcov. = vcovHC)"
   ]
  },
  {
   "cell_type": "code",
   "execution_count": 58,
   "metadata": {
    "vscode": {
     "languageId": "r"
    }
   },
   "outputs": [
    {
     "data": {
      "text/html": [
       "-1.76802968072389"
      ],
      "text/latex": [
       "-1.76802968072389"
      ],
      "text/markdown": [
       "-1.76802968072389"
      ],
      "text/plain": [
       "[1] -1.76803"
      ]
     },
     "metadata": {},
     "output_type": "display_data"
    }
   ],
   "source": [
    "((df$x1-mean(df$x1))/stdev(df$x1))[3]"
   ]
  },
  {
   "cell_type": "code",
   "execution_count": 64,
   "metadata": {
    "vscode": {
     "languageId": "r"
    }
   },
   "outputs": [
    {
     "data": {
      "text/plain": [
       "\n",
       "Call:\n",
       "lm(formula = y1 ~ x1 + x3s, data = df)\n",
       "\n",
       "Residuals:\n",
       "    Min      1Q  Median      3Q     Max \n",
       "-39.304 -12.935  -1.038  13.197  40.198 \n",
       "\n",
       "Coefficients:\n",
       "            Estimate Std. Error t value Pr(>|t|)    \n",
       "(Intercept) -10.8672     8.0420  -1.351    0.181    \n",
       "x1            1.4453     0.2003   7.215 6.23e-10 ***\n",
       "x3s           7.2600     0.9497   7.645 1.05e-10 ***\n",
       "---\n",
       "Signif. codes:  0 '***' 0.001 '**' 0.01 '*' 0.05 '.' 0.1 ' ' 1\n",
       "\n",
       "Residual standard error: 19.04 on 67 degrees of freedom\n",
       "Multiple R-squared:  0.6205,\tAdjusted R-squared:  0.6092 \n",
       "F-statistic: 54.78 on 2 and 67 DF,  p-value: 7.999e-15\n"
      ]
     },
     "metadata": {},
     "output_type": "display_data"
    }
   ],
   "source": [
    "df$x3s <-((df$x2-mean(df$x3))/stdev(df$x3))\n",
    "reg <- lm(data=df,y1~x1+x3s)\n",
    "summary(reg)"
   ]
  },
  {
   "cell_type": "code",
   "execution_count": null,
   "metadata": {
    "vscode": {
     "languageId": "r"
    }
   },
   "outputs": [],
   "source": []
  }
 ],
 "metadata": {
  "kernelspec": {
   "display_name": "R",
   "language": "R",
   "name": "ir"
  },
  "language_info": {
   "codemirror_mode": "r",
   "file_extension": ".r",
   "mimetype": "text/x-r-source",
   "name": "R",
   "pygments_lexer": "r",
   "version": "4.2.1"
  },
  "orig_nbformat": 4
 },
 "nbformat": 4,
 "nbformat_minor": 2
}
