{
 "cells": [
  {
   "cell_type": "code",
   "execution_count": 5,
   "metadata": {
    "vscode": {
     "languageId": "r"
    }
   },
   "outputs": [
    {
     "name": "stderr",
     "output_type": "stream",
     "text": [
      "Warning message:\n",
      "\"package 'e1071' was built under R version 4.2.2\"\n",
      "\n",
      "Attaching package: 'e1071'\n",
      "\n",
      "\n",
      "The following objects are masked from 'package:fBasics':\n",
      "\n",
      "    kurtosis, skewness\n",
      "\n",
      "\n",
      "Warning message:\n",
      "\"package 'readxl' was built under R version 4.2.2\"\n"
     ]
    }
   ],
   "source": [
    "library(ggplot2)\n",
    "library(lmtest)\n",
    "library(urca)\n",
    "library(sandwich)\n",
    "library(car)\n",
    "library(carData)\n",
    "library(forecast)\n",
    "library(tseries)\n",
    "library(dummy)\n",
    "library(seasonal)\n",
    "library(hexView)\n",
    "library(strucchange)\n",
    "library(fBasics)\n",
    "library(e1071)\n",
    "library(readxl)"
   ]
  },
  {
   "cell_type": "code",
   "execution_count": 3,
   "metadata": {
    "vscode": {
     "languageId": "r"
    }
   },
   "outputs": [
    {
     "name": "stdout",
     "output_type": "stream",
     "text": [
      "[1] \"Data_R_test\"\n"
     ]
    }
   ],
   "source": [
    "print(load(\"Data_R_test.rda\"))"
   ]
  },
  {
   "cell_type": "code",
   "execution_count": 4,
   "metadata": {
    "vscode": {
     "languageId": "r"
    }
   },
   "outputs": [],
   "source": [
    "df<-Data_R_test"
   ]
  },
  {
   "cell_type": "code",
   "execution_count": null,
   "metadata": {
    "vscode": {
     "languageId": "r"
    }
   },
   "outputs": [],
   "source": []
  }
 ],
 "metadata": {
  "kernelspec": {
   "display_name": "R",
   "language": "R",
   "name": "ir"
  },
  "language_info": {
   "codemirror_mode": "r",
   "file_extension": ".r",
   "mimetype": "text/x-r-source",
   "name": "R",
   "pygments_lexer": "r",
   "version": "4.2.1"
  },
  "orig_nbformat": 4
 },
 "nbformat": 4,
 "nbformat_minor": 2
}
